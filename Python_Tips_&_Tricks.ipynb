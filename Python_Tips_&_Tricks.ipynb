{
 "cells": [
  {
   "cell_type": "markdown",
   "metadata": {},
   "source": [
    "![Python](https://www.raspberrypi.org/documentation/usage/python/images/python-logo.png)"
   ]
  },
  {
   "cell_type": "markdown",
   "metadata": {},
   "source": [
    "Welcome! Today, we are going to be going over some different ways of conducting things in Python. The exercise will be part interactive, but I'll provide some sample code to start with. My objective today is to teach you something that makes you say \"Oh Neat!\" or something like that. And if you do know everything, well that's good on you! We will be covering what some might refer to as syntactical sugar to make you a certified Pythonista (unofficially). We will end with some more intermediate concepts that may make you scratch your head. Don't worry though, that itch will go away.. eventually. \n",
    "\n",
    "<br>\n",
    "Feel free to ask questions about anything! I may not know the answer at the moment, but there are always resources we can turn to. That's part of the reason Python can be a lot of fun to write!\n",
    "<br>\n",
    "<br>\n",
    "Also, feel free to email me at <b>shepa135@umn.edu</b> afterwards with any questions, problems, discoveries, or anything Python related. \n",
    "\n",
    "\n",
    "If anyone is interested, I have about 1.9GB of digital material in Python available."
   ]
  },
  {
   "cell_type": "markdown",
   "metadata": {},
   "source": [
    " "
   ]
  },
  {
   "cell_type": "markdown",
   "metadata": {},
   "source": [
    "#### General Overview\n",
    ">* Deep Copy vs Shallow Copy\n",
    ">* is vs ==\n",
    ">* List & Dictionary Comprehension\n",
    ">* Functions as Objects\n",
    ">* The mysterious Lambda Function\n",
    ">* Decorators\n",
    ">* Recursion\n"
   ]
  },
  {
   "cell_type": "markdown",
   "metadata": {},
   "source": [
    "<i>Disclosure: I assume everyone has some exposure to Python/Jupyter Notebooks.</i>"
   ]
  },
  {
   "cell_type": "markdown",
   "metadata": {},
   "source": [
    "## Deep Copy vs Shallow Copy"
   ]
  },
  {
   "cell_type": "markdown",
   "metadata": {},
   "source": [
    "If you're like me, I had no idea this was a thing for awhile writing Python. After learning about this, it made me reflect on if I had messed this up before. The answer is almost certainly yes. \n",
    "<br>\n",
    "<br>\n",
    "There is in fact a difference between deep copy and shallow copy. But what is a deep copy and a shallow copy? Before I tell you, lets run the code cells below.\n"
   ]
  },
  {
   "cell_type": "code",
   "execution_count": null,
   "metadata": {
    "collapsed": true
   },
   "outputs": [],
   "source": [
    "x_list = [[1,2],[3,4],[5,6]]\n",
    "y_list = list(x_list)\n",
    "\n",
    "print(\"x_list: \",x_list,\"\\ny_list: \",y_list)"
   ]
  },
  {
   "cell_type": "markdown",
   "metadata": {},
   "source": [
    "These lists look the same? But are they independent of each other?"
   ]
  },
  {
   "cell_type": "code",
   "execution_count": null,
   "metadata": {
    "collapsed": true
   },
   "outputs": [],
   "source": [
    "y_list.append([56,34,21,9])\n",
    "\n",
    "print(\"x_list: \",x_list,\"\\ny_list: \",y_list)"
   ]
  },
  {
   "cell_type": "markdown",
   "metadata": {},
   "source": [
    "Yes, now I'm like 95% sure these lists are independent."
   ]
  },
  {
   "cell_type": "code",
   "execution_count": null,
   "metadata": {
    "collapsed": true
   },
   "outputs": [],
   "source": [
    "x_list[0][1] = 9999\n",
    "\n",
    "print(\"x_list: \",x_list,\"\\ny_list: \",y_list)"
   ]
  },
  {
   "cell_type": "markdown",
   "metadata": {},
   "source": [
    "Whoa.. So they are not?\n",
    "<br>\n",
    "\n",
    "So what you just experienced was called a shallow copy. Both of the lists share the same child objects so if one is altered, the other is too! Deep copies are a solution to avoid falling into this mistake. They make independent copies of whatever you are copying so avoid things such as above\n",
    "<br> \n",
    "\n",
    "Copy [module](https://docs.python.org/3.7/library/copy.html)\n",
    "<br>\n",
    "\n",
    "Use the import module to create shallow (copy.copy()) and deep (copy.deepcopy()) copies of your data. Lets run the same code using deep copy. What happens?"
   ]
  },
  {
   "cell_type": "code",
   "execution_count": null,
   "metadata": {
    "collapsed": true
   },
   "outputs": [],
   "source": [
    "import copy \n",
    "\n",
    "# Cell 1 modified from above\n",
    "x_list = [[1,2],[3,4],[5,6]]\n",
    "y_list = copy.deepcopy(x_list)\n",
    "print(\"Cell 1\\nx_list: \",x_list,\"\\ny_list: \",y_list)\n",
    "\n",
    "# Cell 2 from above\n",
    "y_list.append([56,34,21,9])\n",
    "print(\"\\nCell 2\\nx_list: \",x_list,\"\\ny_list: \",y_list)\n",
    "\n",
    "# Cell 3 from above\n",
    "x_list[0][1] = 9999\n",
    "print(\"\\nCell 3\\nx_list: \",x_list,\"\\ny_list: \",y_list)"
   ]
  },
  {
   "cell_type": "markdown",
   "metadata": {},
   "source": [
    "Oh neat! We avoided the mistake we made last time! It's important to aware of this moving forward to avoid any unintended mistakes. While we are here, assignments (ex. a = 4) do not create a copy, they bind a target and an object. These will perform differently as well so I recommend playing around with the differences. \n",
    "\n",
    "\n",
    "You may be curious if they share the same child objects, are they initially the same nested list? Lets test this with <b> is vs == </b>!"
   ]
  },
  {
   "cell_type": "markdown",
   "metadata": {},
   "source": [
    "## is vs =="
   ]
  },
  {
   "cell_type": "markdown",
   "metadata": {},
   "source": [
    "If you want to test if things are the same, you can test this hypothesize with the <b>is</b> statement in Python. (Checks identities) Or if you want to see if they equal each other, you want to use <b>==</b>. (Checks equality)"
   ]
  },
  {
   "cell_type": "code",
   "execution_count": null,
   "metadata": {
    "collapsed": true
   },
   "outputs": [],
   "source": [
    "x_list = [[1,2],[3,4],[5,6]]\n",
    "y_list = list(x_list)\n",
    "\n",
    "print(\"x_list: \",x_list,\"\\ny_list: \",y_list)\n",
    "\n",
    "if x_list is y_list:\n",
    "    print(\"\\nThey are the same!\")\n",
    "    \n",
    "    if x_list == y_list:\n",
    "        print(\"and they equal each other!\")\n",
    "    \n",
    "elif x_list == y_list:\n",
    "    print(\"\\nThey equal each other, but they don't have the same identity!\")"
   ]
  },
  {
   "cell_type": "markdown",
   "metadata": {},
   "source": [
    "Alright, lets get a little bit tricky by checking if the identities are the equivalent. This is essentially what the <b> is</b> statement is doing. I'm unsure how the code for <b>is</b> is actually written."
   ]
  },
  {
   "cell_type": "code",
   "execution_count": null,
   "metadata": {
    "collapsed": true
   },
   "outputs": [],
   "source": [
    "x_list = [[1,2],[3,4],[5,6]]\n",
    "y_list = x_list\n",
    "\n",
    "if id(x_list) == id(y_list):\n",
    "    print(\"x_list id: \",id(x_list),\"y_list id:\",id(y_list))\n",
    "    print(\"These share the same identity and are equal!\")\n"
   ]
  },
  {
   "cell_type": "markdown",
   "metadata": {},
   "source": [
    "## List & Dictionary Comprehension"
   ]
  },
  {
   "cell_type": "markdown",
   "metadata": {},
   "source": [
    "You may have heard these terms or seen them on [Stack Overflow](https://stackoverflow.com/questions/176918/finding-the-index-of-an-item-given-a-list-containing-it-in-python?rq=1) but didn't know why they structured it like that. In the basic sense, it's syntactical sugar for Python, but it shortens your code overall! They do make the code harder to read. You can get really good at these, but it may be best to keep these for simple loops to make your code a little more compact. \n",
    "<br>\n",
    "\n",
    "Below are basic structures of comprehension for lists and dictionaries.\n",
    "<br>\n",
    "\n",
    "<br>\n",
    "\n",
    "<b> List Comprehension </b>\n",
    "<br>\n",
    "[expression for item in list conditional]\n",
    "\n",
    "<br>\n",
    "\n",
    "<b> Dictionary Comprehension </b>\n",
    "<br>\n",
    "[expression for item in dictionary conditional]\n",
    "\n",
    "<br>\n",
    "In the cells below, I'll show some basic examples of list and dictionary comprehension. Even though they are similar, lets look at list comprehension."
   ]
  },
  {
   "cell_type": "code",
   "execution_count": null,
   "metadata": {
    "collapsed": true
   },
   "outputs": [],
   "source": [
    "# Tradtional for loop\n",
    "\n",
    "some_values = []\n",
    "\n",
    "for i in range(15):\n",
    "    some_values.append(i*i)\n",
    "\n",
    "some_values"
   ]
  },
  {
   "cell_type": "markdown",
   "metadata": {},
   "source": [
    "We can take those three lines and combine them into one more compact one to achieve the same result. "
   ]
  },
  {
   "cell_type": "code",
   "execution_count": null,
   "metadata": {
    "collapsed": true
   },
   "outputs": [],
   "source": [
    "# List comprehension\n",
    "\n",
    "some_values = [i*i for i in range(15)]\n",
    "\n",
    "some_values"
   ]
  },
  {
   "cell_type": "markdown",
   "metadata": {},
   "source": [
    "Now let's try dictionary comprehension. It's very similar in the way it acts, but it is still beneficial to cover. \n",
    "\n",
    "First, we will use a traditional for loop to traverse the dictionary and add 2 to everything in our dictionary. "
   ]
  },
  {
   "cell_type": "code",
   "execution_count": null,
   "metadata": {
    "collapsed": true
   },
   "outputs": [],
   "source": [
    "some_dict = {\"apples\":2, \"pineapples\":8, \"jackfruit\":1,\"banana\": 63,\n",
    "             \"watermelon\": 3, \"kiwi\": 12, \"honeydew\":42}\n",
    "\n",
    "\n",
    "for i in some_dict:\n",
    "    some_dict[i] = some_dict[i] + 2 \n",
    "\n",
    "# del some_dict[\"honeydew\"]\n",
    "\n",
    "some_dict"
   ]
  },
  {
   "cell_type": "markdown",
   "metadata": {},
   "source": [
    "Now for dictionary comprehension."
   ]
  },
  {
   "cell_type": "code",
   "execution_count": null,
   "metadata": {
    "collapsed": true
   },
   "outputs": [],
   "source": [
    "some_dict = {\"apples\":2, \"pineapples\":8, \"jackfruit\":1,\"banana\": 63,\n",
    "             \"watermelon\": 3, \"kiwi\": 12, \"honeydew\":42}\n",
    "\n",
    "# The conditional part of the comprehension is optional\n",
    "some_dict = {j:i+2 for (j,i) in some_dict.items() if j != \"honeydew\"}\n",
    "\n",
    "# The same thing can be done to the dictionary keys if alter j\n",
    "\n",
    "some_dict"
   ]
  },
  {
   "cell_type": "markdown",
   "metadata": {},
   "source": [
    "If we create a function, then we can leverage it in our dictionary comprehension to alter values."
   ]
  },
  {
   "cell_type": "code",
   "execution_count": null,
   "metadata": {
    "collapsed": true
   },
   "outputs": [],
   "source": [
    "def add_num(x,value_to_add):\n",
    "    # It's going to be a large fruit bowl\n",
    "    x = x + value_to_add\n",
    "    \n",
    "    return x \n",
    "\n",
    "some_dict = {j:add_num(i,40) for (j,i) in some_dict.items()}\n",
    "some_dict"
   ]
  },
  {
   "cell_type": "markdown",
   "metadata": {},
   "source": [
    "You might ask is this better? The answer depends. It's shorter, so your code can be more compact, but is it readable? It's up to you, but think of others reading your code. A good rule of thumb is to only use this more simple loops. But as long as honeydew is not involved everything will be fine! \n",
    "\n",
    "\n",
    "For more practice with list and dictionary comprehension, see [here.](https://timothybramlett.com/List_and_Dict_Comprehensions_in_Python.html) "
   ]
  },
  {
   "cell_type": "markdown",
   "metadata": {},
   "source": [
    "## Functions are Objects"
   ]
  },
  {
   "cell_type": "markdown",
   "metadata": {},
   "source": [
    "Functions are considered first class objects in Python. You can assign them to variables, pass them as arguments through other functions, store them in data structures, and return them as values from other functions. This may sound kind of weird, and it is. It may take a little bit to understand some of these next concepts. Hopefully this will make it a little more clear.\n",
    "\n",
    "In the cells below, we will test out some different situations with how functions interact in these different ways."
   ]
  },
  {
   "cell_type": "markdown",
   "metadata": {},
   "source": [
    "#### Assignment"
   ]
  },
  {
   "cell_type": "code",
   "execution_count": null,
   "metadata": {
    "collapsed": true
   },
   "outputs": [],
   "source": [
    "# Define a function for manipulation\n",
    "\n",
    "def is_student(student):\n",
    "    statement = \"{} is a student!\".format(student)\n",
    "    return statement\n",
    "    \n",
    "is_student(\"Sir Francis Bacon\")"
   ]
  },
  {
   "cell_type": "markdown",
   "metadata": {},
   "source": [
    "Simple enough. Let's try assigning it to variables."
   ]
  },
  {
   "cell_type": "code",
   "execution_count": null,
   "metadata": {
    "collapsed": true
   },
   "outputs": [],
   "source": [
    "# Assignment\n",
    "\n",
    "new_student = is_student\n",
    "new_student"
   ]
  },
  {
   "cell_type": "markdown",
   "metadata": {},
   "source": [
    "Now lets delete the function we started with. "
   ]
  },
  {
   "cell_type": "code",
   "execution_count": null,
   "metadata": {
    "collapsed": true
   },
   "outputs": [],
   "source": [
    "del is_student"
   ]
  },
  {
   "cell_type": "markdown",
   "metadata": {},
   "source": [
    "Even though we delete the original function, we are able to still call the function that we assigned to the function in the first place."
   ]
  },
  {
   "cell_type": "code",
   "execution_count": null,
   "metadata": {
    "collapsed": true
   },
   "outputs": [],
   "source": [
    "# If he brought free cereal to class, I wouldn't complain.\n",
    "new_student(\"Cap'n Crunch\")"
   ]
  },
  {
   "cell_type": "markdown",
   "metadata": {},
   "source": [
    "The pointer is still pointing to the original function, and we can prove this by calling the name of it. It should still return 'is_student'."
   ]
  },
  {
   "cell_type": "code",
   "execution_count": null,
   "metadata": {
    "collapsed": true
   },
   "outputs": [],
   "source": [
    "new_student.__name__"
   ]
  },
  {
   "cell_type": "markdown",
   "metadata": {},
   "source": [
    "#### Storing Functions in Data Structures"
   ]
  },
  {
   "cell_type": "markdown",
   "metadata": {},
   "source": [
    "I said it before, but you're able to store functions in data structures in Python. Lets start by defining a couple of functions so we can store multiple functions."
   ]
  },
  {
   "cell_type": "code",
   "execution_count": null,
   "metadata": {
    "collapsed": true
   },
   "outputs": [],
   "source": [
    "def not_student(student):\n",
    "    statement = \"%s is not a student!\" % (student)\n",
    "    return statement\n",
    "\n",
    "def teacher(teacher):\n",
    "    statement = str(teacher) + \" is not a student, but teaches students!\"\n",
    "    return statement\n",
    "    \n",
    "    \n",
    "not_student(\"Tony the Tiger\")\n",
    "# teacher(\"Count Chocula\")"
   ]
  },
  {
   "cell_type": "markdown",
   "metadata": {},
   "source": [
    "What happens when we put all of these in a list?"
   ]
  },
  {
   "cell_type": "code",
   "execution_count": null,
   "metadata": {
    "collapsed": true
   },
   "outputs": [],
   "source": [
    "funcs = [new_student,teacher,not_student]\n",
    "\n",
    "# Who is this mascot??\n",
    "[i(\"Chef Wendell\") for i in funcs]"
   ]
  },
  {
   "cell_type": "markdown",
   "metadata": {},
   "source": [
    "You can actually call functions individually that are stored in a list if you wish!"
   ]
  },
  {
   "cell_type": "code",
   "execution_count": null,
   "metadata": {
    "collapsed": true
   },
   "outputs": [],
   "source": [
    "funcs[2](\"Dig'Em Frog\")"
   ]
  },
  {
   "cell_type": "markdown",
   "metadata": {},
   "source": [
    "#### Passing Functions to Other Functions"
   ]
  },
  {
   "cell_type": "markdown",
   "metadata": {},
   "source": [
    "There is a time and place for everything, but it's beneficial to some degree to know things are possible. Below we will test out passing functions through other functions. This will set up some of the next parts we will cover! "
   ]
  },
  {
   "cell_type": "code",
   "execution_count": null,
   "metadata": {
    "collapsed": true
   },
   "outputs": [],
   "source": [
    "def len_name(value):\n",
    "    return (value,len(value))\n",
    "\n",
    "def len_cereal_mascots(func):\n",
    "    cereal_mascots = [\"Count Chocula\", \"Chef Wendell\", \"Dig'Em Frog\", \"Sonny\", \"Toucan Sam\",\"Buzz\"]\n",
    "    \n",
    "    # I apologize for adding list comprehension in here, but feel free to try it with a traditional for loop\n",
    "    lengthofname = [func(i) for i in cereal_mascots]\n",
    "    return lengthofname\n",
    "\n",
    "len_cereal_mascots(len_name)"
   ]
  },
  {
   "cell_type": "markdown",
   "metadata": {},
   "source": [
    "In Python, there are so many ways to do the same thing. It comes down to how readable it is and personal taste. \n",
    "\n",
    "In the example below, I show a quick example of how the map function works in a similar fashion to what we had above with the <b>len_cereal_mascots</b> function. \n",
    "\n",
    "The <b> map </b> function is structured like this <b> map(function, [list,of,inputs]) </b>. It will return all of the inputs passed through the function. This is basically a nice, clean way to apply a for loop to a list. "
   ]
  },
  {
   "cell_type": "code",
   "execution_count": null,
   "metadata": {
    "collapsed": true
   },
   "outputs": [],
   "source": [
    "cereal_mascots = [\"Count Chocula\", \"Chef Wendell\", \"Dig'Em Frog\", \"Sonny\", \"Toucan Sam\",\"Buzz\"]\n",
    "\n",
    "list(map(len_name, cereal_mascots))"
   ]
  },
  {
   "cell_type": "markdown",
   "metadata": {},
   "source": [
    "## The Mysterious Lambda Function"
   ]
  },
  {
   "cell_type": "markdown",
   "metadata": {},
   "source": [
    "Okay, I know it's not that mysterious, but it can throw you for a loop if it's the first time you see one!\n",
    "<br>\n",
    "\n",
    "What is it? The lambda function is considered an anonymous function that takes any amount of arguments and manipulates them with one expression. It's good when you only want to use a function once in your code. You may have seen it on some random Stack Overflow solutions. It fits well with comprehensions and how those are written."
   ]
  },
  {
   "cell_type": "code",
   "execution_count": null,
   "metadata": {
    "collapsed": true
   },
   "outputs": [],
   "source": [
    "value = 24\n",
    "\n",
    "# lambda values : expression\n",
    "x_func = lambda x: x * 4\n",
    "\n",
    "x_func(value)"
   ]
  },
  {
   "cell_type": "markdown",
   "metadata": {},
   "source": [
    "Now that we know how the lambda function is structured, lets try something a little more familiar!"
   ]
  },
  {
   "cell_type": "code",
   "execution_count": null,
   "metadata": {
    "collapsed": true
   },
   "outputs": [],
   "source": [
    "distance = lambda x1,y1,x2,y2: ((x1-x2)*2+(y1-y2)*2)*0.5\n",
    "\n",
    "distance(3,4,1,4)"
   ]
  },
  {
   "cell_type": "markdown",
   "metadata": {},
   "source": [
    "Lets now use our new function created with lambda in a list comprehension to calculate distance between points."
   ]
  },
  {
   "cell_type": "code",
   "execution_count": null,
   "metadata": {
    "collapsed": true
   },
   "outputs": [],
   "source": [
    "lat_lon = [(45.0,-93.0),\n",
    "           (132.0,-23.43),\n",
    "           (34.16,-97.92),\n",
    "           (12.34,56.432),\n",
    "           (99.12,82.122),\n",
    "           (89.12,11.22),\n",
    "           (76.9,34.62)]"
   ]
  },
  {
   "cell_type": "code",
   "execution_count": null,
   "metadata": {
    "collapsed": true
   },
   "outputs": [],
   "source": [
    "distances = [(lambda x1,y1,x2,y2: ((x1-x2)*2+(y1-y2)*2)*0.5)(lat_lon[i][0],lat_lon[i][1],lat_lon[i+1][0],lat_lon[i+1][1]) for i in range(len(lat_lon)-1)]\n",
    "\n",
    "distances"
   ]
  },
  {
   "cell_type": "code",
   "execution_count": null,
   "metadata": {
    "collapsed": true
   },
   "outputs": [],
   "source": [
    "distances = [distance(lat_lon[i][0],lat_lon[i][1],lat_lon[i+1][0],lat_lon[i+1][1]) for i in range(len(lat_lon)-1)]\n",
    "\n",
    "distances"
   ]
  },
  {
   "cell_type": "markdown",
   "metadata": {},
   "source": [
    "Wait. What's different in these two previous cells?\n",
    "\n",
    "Lets discuss."
   ]
  },
  {
   "cell_type": "markdown",
   "metadata": {},
   "source": [
    "For more information on the Lambda function in Python, see [here.](https://www.programiz.com/python-programming/anonymous-function)"
   ]
  },
  {
   "cell_type": "markdown",
   "metadata": {},
   "source": [
    "## Decorators"
   ]
  },
  {
   "cell_type": "markdown",
   "metadata": {},
   "source": [
    "Decorators are a interesting part of Python that I recently stumbled upon. In a basic sense, they are functions that modify the functionality of another function. They also allow you extend the functionality of an existing function What do I mean by this? I'll explain. \n",
    "\n",
    "Consider you're working on a set of functions that have a specific task. Each of these tasks are critical to what your manager needs to accomplish their weekly tasks. But they have recently taken interest in to what tasks they conduct on a weekly basis and if they are conducting certain tasks more often. You have a bright idea of logging information from the existing functions, but altering them may be a tedious task. Consider decorators. You can write a function that extends the initial functionality of a function with out altering the function itself. \n",
    "\n",
    "<b>Basic structure of a decorator </b>\n",
    "\n",
    "@decorator_function <br>\n",
    "def existing_function(): <br>\n",
    "&nbsp;&nbsp;&nbsp;&nbsp;return do_something\n",
    "\n",
    "\n",
    "This will make more sense when we implement it."
   ]
  },
  {
   "cell_type": "code",
   "execution_count": null,
   "metadata": {
    "collapsed": true
   },
   "outputs": [],
   "source": [
    "# Decorator function\n",
    "def best_cereal(func):\n",
    "    def wrapper():\n",
    "        result = func()\n",
    "        new_result = result.upper()\n",
    "        return new_result\n",
    "    return wrapper"
   ]
  },
  {
   "cell_type": "code",
   "execution_count": null,
   "metadata": {
    "collapsed": true
   },
   "outputs": [],
   "source": [
    "# Applying the decorator to a function\n",
    "@best_cereal\n",
    "def cereal():\n",
    "    return \"Cinnamon Toast Crunch is the Best!!\""
   ]
  },
  {
   "cell_type": "code",
   "execution_count": null,
   "metadata": {
    "collapsed": true
   },
   "outputs": [],
   "source": [
    "# Run the function\n",
    "cereal()"
   ]
  },
  {
   "cell_type": "markdown",
   "metadata": {},
   "source": [
    "Jupyter Widgets have the option to use widgets as well! Run the cell below to use the interact function."
   ]
  },
  {
   "cell_type": "code",
   "execution_count": null,
   "metadata": {
    "collapsed": true
   },
   "outputs": [],
   "source": [
    "from ipywidgets import interact\n",
    "\n",
    "@interact(x = True, y = 10)\n",
    "def func(x,y):\n",
    "    return(x,y)"
   ]
  },
  {
   "cell_type": "markdown",
   "metadata": {},
   "source": [
    "Interact is meant to allow people record the state of the widget. One use of this could be logging information of how the widget is being used. This could be applied in projects that try to assess how one is learning in a Jupyter Notebook.\n",
    "\n",
    "To be honest, decorators are fairly nonpractical and arcane in most circumstances. Sometimes it's useful to implement which we will experience in the next section."
   ]
  },
  {
   "cell_type": "markdown",
   "metadata": {},
   "source": [
    "## Recursion"
   ]
  },
  {
   "cell_type": "markdown",
   "metadata": {},
   "source": [
    "![Recursion](http://imgs.xkcd.com/comics/fixing_problems.png)\n",
    "\n",
    "Recursion. It's a function that refers itself within the function. The function will keep calling itself and repeating behavior until a base case conditional is met. This is an essential part of recursion otherwise you'll be in an infinite loop depending on the structure. Like in the comic, if there is no base case that is satisfied, the individual will continue on trying to fix his problems. Personally, I find it best to view it as a incremental loop that stops once a condition is met.\n",
    "\n",
    "\n",
    "\n",
    "\n",
    "Basic Structure\n",
    "\n",
    "def func(): <br>\n",
    "    Base Case <br>\n",
    "    Do something that calls func() <br>\n",
    "    \n",
    "One great thing is that recursive functions are pretty short, but they still can be confusing. Check out this fibonacci number printer below. "
   ]
  },
  {
   "cell_type": "code",
   "execution_count": null,
   "metadata": {
    "collapsed": true
   },
   "outputs": [],
   "source": [
    "def count_down(x):\n",
    "    \n",
    "    # Base Case\n",
    "    if x < 1:\n",
    "        return \"Blast off!\"\n",
    "    \n",
    "    # Recursive Step\n",
    "    else:\n",
    "        print(x)\n",
    "        return count_down(x-1)\n",
    "        \n",
    "count_down(10)"
   ]
  },
  {
   "cell_type": "markdown",
   "metadata": {},
   "source": [
    "In the cell below, write a recursive function that starts at 0 and counts to <b>n</b> passed in as an argument. If you're comfortable with this already, try creating a different a different function that uses recursion. "
   ]
  },
  {
   "cell_type": "code",
   "execution_count": null,
   "metadata": {
    "collapsed": true
   },
   "outputs": [],
   "source": [
    "# Enter function here\n"
   ]
  },
  {
   "cell_type": "markdown",
   "metadata": {},
   "source": [
    "Lets try a little more difficult problem by using a fibonacci number printer. Without going too deep into fibonacci, the recurrence relation is Fn = Fn-1 + Fn-2. If you want to learn more about the fibonacci sequence, follow this [link](https://en.wikipedia.org/wiki/Fibonacci_number) to get more information."
   ]
  },
  {
   "cell_type": "code",
   "execution_count": null,
   "metadata": {
    "collapsed": true
   },
   "outputs": [],
   "source": [
    "def fib(n):\n",
    "\n",
    "    # Base Case (Something that stops the loop)\n",
    "    if n <= 1:\n",
    "#         print(n)\n",
    "        return n\n",
    "    \n",
    "    # Recursive step (Function calls itself)\n",
    "    else:\n",
    "\n",
    "        return(fib(n-1) + fib(n-2))"
   ]
  },
  {
   "cell_type": "code",
   "execution_count": null,
   "metadata": {
    "collapsed": true
   },
   "outputs": [],
   "source": [
    "# for i in range(10):\n",
    "#     print(fib(i))\n",
    "    \n",
    "    \n",
    "# Lets now time how long it takes to run this function for 30\n",
    "%time fib(30)"
   ]
  },
  {
   "cell_type": "markdown",
   "metadata": {},
   "source": [
    "Without context, this time is insignificant. But we are actually running the function on the same n multiple times. How do we make this more efficient? Through the use of a decorator of course! In the functools, there is a function called lru_cache. This function caches saves calls up to what if referenced in maxsize. So if we set maxsize argument to None, it will save all the calls we make with the function. This is especially helpful in speeding up our fibonacci sequence. Run the code below to see the speed savings."
   ]
  },
  {
   "cell_type": "code",
   "execution_count": null,
   "metadata": {
    "collapsed": true
   },
   "outputs": [],
   "source": [
    "from functools import lru_cache\n",
    "\n",
    "@lru_cache(maxsize=None)\n",
    "def fib_2(n):\n",
    "\n",
    "    # Base Case (Something that stops the loop)\n",
    "    if n <= 1:\n",
    "#         print(n)\n",
    "        return n\n",
    "    \n",
    "    # Recursive step (Function calls itself)\n",
    "    else:\n",
    "\n",
    "        return(fib_2(n-1) + fib_2(n-2))"
   ]
  },
  {
   "cell_type": "code",
   "execution_count": null,
   "metadata": {
    "collapsed": true
   },
   "outputs": [],
   "source": [
    "# Magic time function is used to time how long things take to run. \n",
    "# See https://ipython.readthedocs.io/en/stable/interactive/magics.html\n",
    "\n",
    "%time fib_2(30)"
   ]
  },
  {
   "cell_type": "markdown",
   "metadata": {},
   "source": [
    "If recursion is an interest to you, try solving the [Towers of Hanoi](https://www.mathsisfun.com/games/towerofhanoi.html) puzzle. This puzzle needs recursion to solve it in a timely manner.  "
   ]
  },
  {
   "cell_type": "code",
   "execution_count": null,
   "metadata": {
    "collapsed": true
   },
   "outputs": [],
   "source": []
  }
 ],
 "metadata": {
  "kernelspec": {
   "display_name": "Python 3",
   "language": "python",
   "name": "python3"
  },
  "language_info": {
   "codemirror_mode": {
    "name": "ipython",
    "version": 3
   },
   "file_extension": ".py",
   "mimetype": "text/x-python",
   "name": "python",
   "nbconvert_exporter": "python",
   "pygments_lexer": "ipython3",
   "version": "3.6.3"
  }
 },
 "nbformat": 4,
 "nbformat_minor": 2
}
